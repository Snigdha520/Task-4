{
 "cells": [
  {
   "cell_type": "markdown",
   "id": "5dfcfb22",
   "metadata": {},
   "source": [
    "## case-true"
   ]
  },
  {
   "cell_type": "code",
   "execution_count": 1,
   "id": "0c4811c7",
   "metadata": {},
   "outputs": [
    {
     "name": "stdout",
     "output_type": "stream",
     "text": [
      "The above lists have at least one common member: True\n"
     ]
    }
   ],
   "source": [
    "def common(p, q):\n",
    "    flag = False\n",
    "    for i in p:\n",
    "        if (i in q):\n",
    "            flag = True\n",
    "        else:\n",
    "            pass\n",
    "    return flag\n",
    "\n",
    "p = [10, 11, 12, 13, 14]\n",
    "q = [14, 15, 16, 17, 18]\n",
    "result = common(p, q)\n",
    "print('The above lists have at least one common member:',result)"
   ]
  }
 ],
 "metadata": {
  "kernelspec": {
   "display_name": "Python 3",
   "language": "python",
   "name": "python3"
  },
  "language_info": {
   "codemirror_mode": {
    "name": "ipython",
    "version": 3
   },
   "file_extension": ".py",
   "mimetype": "text/x-python",
   "name": "python",
   "nbconvert_exporter": "python",
   "pygments_lexer": "ipython3",
   "version": "3.8.8"
  }
 },
 "nbformat": 4,
 "nbformat_minor": 5
}
